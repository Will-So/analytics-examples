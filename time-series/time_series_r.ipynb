{
 "cells": [
  {
   "cell_type": "markdown",
   "metadata": {},
   "source": [
    "# The many different objects"
   ]
  },
  {
   "cell_type": "markdown",
   "metadata": {},
   "source": [
    "![](https://dl.dropboxusercontent.com/u/97258109/Screens/S3733.png)"
   ]
  },
  {
   "cell_type": "markdown",
   "metadata": {},
   "source": [
    "[Source](http://faculty.washington.edu/ezivot/econ424/Working%20with%20Time%20Series%20Data%20in%20R.pdf)"
   ]
  },
  {
   "cell_type": "markdown",
   "metadata": {},
   "source": [
    "`xts` and `zoo` are often handled for time series."
   ]
  },
  {
   "cell_type": "markdown",
   "metadata": {},
   "source": [
    "# Different WAys to test for Causality"
   ]
  },
  {
   "cell_type": "markdown",
   "metadata": {},
   "source": []
  },
  {
   "cell_type": "code",
   "execution_count": 3,
   "metadata": {
    "collapsed": false
   },
   "outputs": [],
   "source": [
    "df = read.csv(\"cleaned_df.csv\")"
   ]
  },
  {
   "cell_type": "code",
   "execution_count": 5,
   "metadata": {
    "collapsed": false
   },
   "outputs": [
    {
     "data": {
      "text/html": [
       "<table>\n",
       "<thead><tr><th></th><th scope=col>observation_date</th><th scope=col>c_profits</th><th scope=col>employment_rate</th></tr></thead>\n",
       "<tbody>\n",
       "\t<tr><th scope=row>1</th><td>1948-01-01</td><td>0.08865515</td><td>56.46667</td></tr>\n",
       "\t<tr><th scope=row>2</th><td>1948-04-01</td><td>0.09087578</td><td>56.63333</td></tr>\n",
       "\t<tr><th scope=row>3</th><td>1948-07-01</td><td>0.08729875</td><td>56.76667</td></tr>\n",
       "\t<tr><th scope=row>4</th><td>1948-10-01</td><td>0.08371927</td><td>56.6</td></tr>\n",
       "\t<tr><th scope=row>5</th><td>1949-01-01</td><td>0.07806826</td><td>56.13333</td></tr>\n",
       "\t<tr><th scope=row>6</th><td>1949-04-01</td><td>0.06993007</td><td>55.36667</td></tr>\n",
       "</tbody>\n",
       "</table>\n"
      ],
      "text/latex": [
       "\\begin{tabular}{r|lll}\n",
       "  & observation_date & c_profits & employment_rate\\\\\n",
       "\\hline\n",
       "\t1 & 1948-01-01 & 0.08865515 & 56.46667\\\\\n",
       "\t2 & 1948-04-01 & 0.09087578 & 56.63333\\\\\n",
       "\t3 & 1948-07-01 & 0.08729875 & 56.76667\\\\\n",
       "\t4 & 1948-10-01 & 0.08371927 & 56.6\\\\\n",
       "\t5 & 1949-01-01 & 0.07806826 & 56.13333\\\\\n",
       "\t6 & 1949-04-01 & 0.06993007 & 55.36667\\\\\n",
       "\\end{tabular}\n"
      ],
      "text/plain": [
       "  observation_date  c_profits employment_rate\n",
       "1       1948-01-01 0.08865515        56.46667\n",
       "2       1948-04-01 0.09087578        56.63333\n",
       "3       1948-07-01 0.08729875        56.76667\n",
       "4       1948-10-01 0.08371927        56.60000\n",
       "5       1949-01-01 0.07806826        56.13333\n",
       "6       1949-04-01 0.06993007        55.36667"
      ]
     },
     "execution_count": 5,
     "metadata": {},
     "output_type": "execute_result"
    }
   ],
   "source": [
    "head(df)"
   ]
  },
  {
   "cell_type": "code",
   "execution_count": 11,
   "metadata": {
    "collapsed": true
   },
   "outputs": [],
   "source": [
    "series = as.ts(df)"
   ]
  },
  {
   "cell_type": "code",
   "execution_count": 19,
   "metadata": {
    "collapsed": false,
    "scrolled": true
   },
   "outputs": [],
   "source": [
    "library(xts)"
   ]
  },
  {
   "cell_type": "code",
   "execution_count": 17,
   "metadata": {
    "collapsed": true
   },
   "outputs": [],
   "source": [
    "date = as.Date(df$observation_date)"
   ]
  },
  {
   "cell_type": "code",
   "execution_count": 23,
   "metadata": {
    "collapsed": false
   },
   "outputs": [
    {
     "data": {
      "text/html": [
       "<ol class=list-inline>\n",
       "\t<li>'Thursday'</li>\n",
       "\t<li>'Thursday'</li>\n",
       "\t<li>'Thursday'</li>\n",
       "\t<li>'Friday'</li>\n",
       "\t<li>'Saturday'</li>\n",
       "\t<li>'Friday'</li>\n",
       "</ol>\n"
      ],
      "text/latex": [
       "\\begin{enumerate*}\n",
       "\\item 'Thursday'\n",
       "\\item 'Thursday'\n",
       "\\item 'Thursday'\n",
       "\\item 'Friday'\n",
       "\\item 'Saturday'\n",
       "\\item 'Friday'\n",
       "\\end{enumerate*}\n"
      ],
      "text/markdown": [
       "1. 'Thursday'\n",
       "2. 'Thursday'\n",
       "3. 'Thursday'\n",
       "4. 'Friday'\n",
       "5. 'Saturday'\n",
       "6. 'Friday'\n",
       "\n",
       "\n"
      ],
      "text/plain": [
       "[1] \"Thursday\" \"Thursday\" \"Thursday\" \"Friday\"   \"Saturday\" \"Friday\"  "
      ]
     },
     "execution_count": 23,
     "metadata": {},
     "output_type": "execute_result"
    }
   ],
   "source": [
    "head(weekdays(date))"
   ]
  },
  {
   "cell_type": "code",
   "execution_count": 29,
   "metadata": {
    "collapsed": false
   },
   "outputs": [
    {
     "data": {
      "text/html": [
       "<ol class=list-inline>\n",
       "\t<li>'Thursday'</li>\n",
       "\t<li>'Thursday'</li>\n",
       "\t<li>'Thursday'</li>\n",
       "\t<li>'Friday'</li>\n",
       "\t<li>'Saturday'</li>\n",
       "\t<li>'Friday'</li>\n",
       "\t<li>'Friday'</li>\n",
       "\t<li>'Saturday'</li>\n",
       "\t<li>'Sunday'</li>\n",
       "</ol>\n"
      ],
      "text/latex": [
       "\\begin{enumerate*}\n",
       "\\item 'Thursday'\n",
       "\\item 'Thursday'\n",
       "\\item 'Thursday'\n",
       "\\item 'Friday'\n",
       "\\item 'Saturday'\n",
       "\\item 'Friday'\n",
       "\\item 'Friday'\n",
       "\\item 'Saturday'\n",
       "\\item 'Sunday'\n",
       "\\end{enumerate*}\n"
      ],
      "text/markdown": [
       "1. 'Thursday'\n",
       "2. 'Thursday'\n",
       "3. 'Thursday'\n",
       "4. 'Friday'\n",
       "5. 'Saturday'\n",
       "6. 'Friday'\n",
       "7. 'Friday'\n",
       "8. 'Saturday'\n",
       "9. 'Sunday'\n",
       "\n",
       "\n"
      ],
      "text/plain": [
       "[1] \"Thursday\" \"Thursday\" \"Thursday\" \"Friday\"   \"Saturday\" \"Friday\"   \"Friday\"  \n",
       "[8] \"Saturday\" \"Sunday\"  "
      ]
     },
     "execution_count": 29,
     "metadata": {},
     "output_type": "execute_result"
    }
   ],
   "source": [
    "weekdays(date)[c(1:9)]"
   ]
  },
  {
   "cell_type": "code",
   "execution_count": 32,
   "metadata": {
    "collapsed": false
   },
   "outputs": [
    {
     "data": {
      "text/plain": [
       "[1] \"1948-01-02\""
      ]
     },
     "execution_count": 32,
     "metadata": {},
     "output_type": "execute_result"
    }
   ],
   "source": [
    "date[1] + 1"
   ]
  },
  {
   "cell_type": "code",
   "execution_count": null,
   "metadata": {
    "collapsed": true
   },
   "outputs": [],
   "source": []
  }
 ],
 "metadata": {
  "kernelspec": {
   "display_name": "R",
   "language": "R",
   "name": "ir"
  },
  "language_info": {
   "codemirror_mode": "r",
   "file_extension": ".r",
   "mimetype": "text/x-r-source",
   "name": "R",
   "pygments_lexer": "r",
   "version": "3.2.2"
  }
 },
 "nbformat": 4,
 "nbformat_minor": 0
}
